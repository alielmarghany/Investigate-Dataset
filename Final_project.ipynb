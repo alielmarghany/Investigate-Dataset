{
  "cells": [
    {
      "cell_type": "markdown",
      "metadata": {
        "id": "lrNtbFbdz0ES"
      },
      "source": [
        "# Project: Investigate a Movie Dataset\n",
        "\n",
        "## Table of Contents\n",
        "<ul>\n",
        "<li><a href=\"#intro\">Introduction</a></li>\n",
        "<li><a href=\"#wrangling\">Data Wrangling</a></li>\n",
        "<li><a href=\"#eda\">Exploratory Data Analysis</a></li>\n",
        "<li><a href=\"#conclusions\">Conclusions</a></li>\n",
        "</ul>"
      ]
    },
    {
      "cell_type": "markdown",
      "metadata": {
        "id": "baromZzI0LVu"
      },
      "source": [
        "<a id='intro'></a>\n",
        "## **Introduction**\n"
      ]
    },
    {
      "cell_type": "code",
      "execution_count": 19,
      "metadata": {
        "id": "-Wi_9SXa0UXX"
      },
      "outputs": [],
      "source": [
        "import pandas as pd\n",
        "import numpy as np\n",
        "import matplotlib.pyplot as plt"
      ]
    },
    {
      "cell_type": "code",
      "execution_count": 20,
      "metadata": {
        "id": "tv2wx6SS0t10"
      },
      "outputs": [],
      "source": [
        "df = pd.read_csv('dataset.csv', skiprows=[955, 2748, 3267, 4720, 5257, 7038, 7854]) # We skipped these rows because they have errors"
      ]
    },
    {
      "cell_type": "markdown",
      "metadata": {
        "id": "085MQXU1OU8l"
      },
      "source": [
        "## **Questions**\n",
        "\n",
        "1.  What are the least 10 popular movies in the dataset?\n",
        "2.  Which movie has the highest budget and what is its title?\n",
        "3.  What is the average runtime of all the movies in the dataset?\n",
        "4.  What is the average number of movies were released each year?\n",
        "5.  Which movie has the highest average rating?\n",
        "6.  What is the most popular genre?\n",
        "7.  Which production company has produced the most movies?\n",
        "8. Are there any trends in movie releases over the years?"
      ]
    },
    {
      "cell_type": "markdown",
      "metadata": {
        "id": "Le1-6ulW1E1P"
      },
      "source": [
        "<a id='wrangling'></a>\n",
        "## **Data Wrangling**\n",
        "\n",
        "\n"
      ]
    },
    {
      "cell_type": "markdown",
      "metadata": {
        "id": "iLLfYi1SEYLw"
      },
      "source": [
        "### Problems identfying"
      ]
    },
    {
      "cell_type": "code",
      "execution_count": 21,
      "metadata": {
        "colab": {
          "base_uri": "https://localhost:8080/"
        },
        "id": "Dc6KVD_SEjhf",
        "outputId": "bd56c206-48ee-474f-86da-d244c87916ea"
      },
      "outputs": [
        {
          "output_type": "stream",
          "name": "stdout",
          "text": [
            "<class 'pandas.core.frame.DataFrame'>\n",
            "RangeIndex: 10872 entries, 0 to 10871\n",
            "Data columns (total 21 columns):\n",
            " #   Column                 Non-Null Count  Dtype \n",
            "---  ------                 --------------  ----- \n",
            " 0   id                     10872 non-null  object\n",
            " 1   imdb_id                1923 non-null   object\n",
            " 2   popularity             1924 non-null   object\n",
            " 3   budget                 1915 non-null   object\n",
            " 4   revenue                1914 non-null   object\n",
            " 5   original_title         1915 non-null   object\n",
            " 6   cast                   1904 non-null   object\n",
            " 7   homepage               694 non-null    object\n",
            " 8   director               1912 non-null   object\n",
            " 9   tagline                1406 non-null   object\n",
            " 10  keywords               1592 non-null   object\n",
            " 11  overview               1773 non-null   object\n",
            " 12  runtime                1725 non-null   object\n",
            " 13  genres                 1686 non-null   object\n",
            " 14  production_companies   1481 non-null   object\n",
            " 15  release_date           1641 non-null   object\n",
            " 16  vote_count             1629 non-null   object\n",
            " 17  vote_average           1620 non-null   object\n",
            " 18  release_year           1613 non-null   object\n",
            " 19  budget_adj             1608 non-null   object\n",
            " 20  revenue_adj;;;;;;;;;;  1607 non-null   object\n",
            "dtypes: object(21)\n",
            "memory usage: 1.7+ MB\n"
          ]
        }
      ],
      "source": [
        "df.info()"
      ]
    },
    {
      "cell_type": "markdown",
      "metadata": {
        "id": "Z4rpRzCdKq6y"
      },
      "source": [
        "###### **Problems**\n",
        "\n",
        "\n",
        "1.   Some columns have strange names\n",
        "2.   Some datatypes of columns are wrong\n",
        "3.   There is a lot of missing data\n",
        "4.   There are a lot of duplicates\n",
        "\n"
      ]
    },
    {
      "cell_type": "markdown",
      "metadata": {
        "id": "tApcVxQf1jWT"
      },
      "source": [
        "### Data Cleaning"
      ]
    },
    {
      "cell_type": "markdown",
      "metadata": {
        "id": "VHZz93V3ESL9"
      },
      "source": [
        "#### **Problem 1**\n",
        "Changing some column names that are unappropriate"
      ]
    },
    {
      "cell_type": "markdown",
      "metadata": {
        "id": "YA6psR4HGWwd"
      },
      "source": [
        "###### Code"
      ]
    },
    {
      "cell_type": "code",
      "execution_count": 22,
      "metadata": {
        "id": "6H3bcilhGHNz"
      },
      "outputs": [],
      "source": [
        "df['revenue_adj;;;;;;;;;;'] = df['revenue_adj;;;;;;;;;;'].str.replace(';', '')\n",
        "df.rename(columns={'revenue_adj;;;;;;;;;;': 'revenue_adj'}, inplace=True)"
      ]
    },
    {
      "cell_type": "markdown",
      "metadata": {
        "id": "UZY5O9t4GfRV"
      },
      "source": [
        "###### Test"
      ]
    },
    {
      "cell_type": "code",
      "execution_count": 23,
      "metadata": {
        "colab": {
          "base_uri": "https://localhost:8080/"
        },
        "id": "4LxdJPhNGiQQ",
        "outputId": "ffd54def-de2e-407f-8776-b21ad91c2275"
      },
      "outputs": [
        {
          "output_type": "stream",
          "name": "stdout",
          "text": [
            "<class 'pandas.core.frame.DataFrame'>\n",
            "RangeIndex: 10872 entries, 0 to 10871\n",
            "Data columns (total 21 columns):\n",
            " #   Column                Non-Null Count  Dtype \n",
            "---  ------                --------------  ----- \n",
            " 0   id                    10872 non-null  object\n",
            " 1   imdb_id               1923 non-null   object\n",
            " 2   popularity            1924 non-null   object\n",
            " 3   budget                1915 non-null   object\n",
            " 4   revenue               1914 non-null   object\n",
            " 5   original_title        1915 non-null   object\n",
            " 6   cast                  1904 non-null   object\n",
            " 7   homepage              694 non-null    object\n",
            " 8   director              1912 non-null   object\n",
            " 9   tagline               1406 non-null   object\n",
            " 10  keywords              1592 non-null   object\n",
            " 11  overview              1773 non-null   object\n",
            " 12  runtime               1725 non-null   object\n",
            " 13  genres                1686 non-null   object\n",
            " 14  production_companies  1481 non-null   object\n",
            " 15  release_date          1641 non-null   object\n",
            " 16  vote_count            1629 non-null   object\n",
            " 17  vote_average          1620 non-null   object\n",
            " 18  release_year          1613 non-null   object\n",
            " 19  budget_adj            1608 non-null   object\n",
            " 20  revenue_adj           1607 non-null   object\n",
            "dtypes: object(21)\n",
            "memory usage: 1.7+ MB\n"
          ]
        }
      ],
      "source": [
        "df.info()"
      ]
    },
    {
      "cell_type": "markdown",
      "metadata": {
        "id": "9NZPu35EHvsx"
      },
      "source": [
        "#### **Problem 2**\n",
        "Changing some columns data type"
      ]
    },
    {
      "cell_type": "markdown",
      "metadata": {
        "id": "Y2MgwgHoH9BR"
      },
      "source": [
        "###### Code"
      ]
    },
    {
      "cell_type": "code",
      "execution_count": 24,
      "metadata": {
        "id": "A4bBJ9mUH9-c"
      },
      "outputs": [],
      "source": [
        "df['release_date'] = pd.to_datetime(df['release_date'], errors='coerce')\n",
        "df['vote_count'] = pd.to_numeric(df['vote_count'], errors='coerce')\n",
        "df['vote_average'] = pd.to_numeric(df['vote_average'], errors='coerce')\n",
        "df['budget_adj'] = pd.to_numeric(df['budget_adj'], errors='coerce')\n",
        "df['popularity'] = pd.to_numeric(df['popularity'], errors='coerce')\n",
        "df['budget'] = pd.to_numeric(df['budget'], errors='coerce')\n",
        "df['revenue_adj'] = pd.to_numeric(df['revenue_adj'], errors='coerce')\n",
        "df['release_year'] = pd.to_numeric(df['release_year'], errors='coerce')\n",
        "df['revenue'] = pd.to_numeric(df['revenue'], errors='coerce')\n",
        "df['runtime'] = pd.to_numeric(df['runtime'], errors='coerce')"
      ]
    },
    {
      "cell_type": "markdown",
      "metadata": {
        "id": "mLr9ffCAIG42"
      },
      "source": [
        "\n",
        "we use this line of code to change datatype to float numeric\n",
        "```\n",
        "# df['vote_count'] = pd.to_numeric(df['vote_count'], errors='coerce')\n",
        "```\n",
        "\n",
        "we use this line of code to change datatype to datetime\n",
        "```\n",
        "# df['release_date'] = pd.to_datetime(df['release_date'], errors='coerce')\n",
        "```\n"
      ]
    },
    {
      "cell_type": "markdown",
      "metadata": {
        "id": "HH5hKJypICOX"
      },
      "source": [
        "###### Test"
      ]
    },
    {
      "cell_type": "code",
      "execution_count": 25,
      "metadata": {
        "colab": {
          "base_uri": "https://localhost:8080/"
        },
        "id": "1zCu_UncIIuA",
        "outputId": "bb1c1368-5bc2-439c-cb76-716c4afaaf7b"
      },
      "outputs": [
        {
          "output_type": "stream",
          "name": "stdout",
          "text": [
            "<class 'pandas.core.frame.DataFrame'>\n",
            "RangeIndex: 10872 entries, 0 to 10871\n",
            "Data columns (total 21 columns):\n",
            " #   Column                Non-Null Count  Dtype         \n",
            "---  ------                --------------  -----         \n",
            " 0   id                    10872 non-null  object        \n",
            " 1   imdb_id               1923 non-null   object        \n",
            " 2   popularity            1685 non-null   float64       \n",
            " 3   budget                1657 non-null   float64       \n",
            " 4   revenue               1640 non-null   float64       \n",
            " 5   original_title        1915 non-null   object        \n",
            " 6   cast                  1904 non-null   object        \n",
            " 7   homepage              694 non-null    object        \n",
            " 8   director              1912 non-null   object        \n",
            " 9   tagline               1406 non-null   object        \n",
            " 10  keywords              1592 non-null   object        \n",
            " 11  overview              1773 non-null   object        \n",
            " 12  runtime               1681 non-null   float64       \n",
            " 13  genres                1686 non-null   object        \n",
            " 14  production_companies  1481 non-null   object        \n",
            " 15  release_date          1614 non-null   datetime64[ns]\n",
            " 16  vote_count            1620 non-null   float64       \n",
            " 17  vote_average          1613 non-null   float64       \n",
            " 18  release_year          1608 non-null   float64       \n",
            " 19  budget_adj            1607 non-null   float64       \n",
            " 20  revenue_adj           1605 non-null   float64       \n",
            "dtypes: datetime64[ns](1), float64(9), object(11)\n",
            "memory usage: 1.7+ MB\n"
          ]
        }
      ],
      "source": [
        "df.info()"
      ]
    },
    {
      "cell_type": "markdown",
      "metadata": {
        "id": "1feIAufhIQdm"
      },
      "source": [
        "#### **Problem 3**\n",
        "Fill missing data"
      ]
    },
    {
      "cell_type": "markdown",
      "metadata": {
        "id": "kElt6PIUITh5"
      },
      "source": [
        "###### Code"
      ]
    },
    {
      "cell_type": "code",
      "execution_count": 26,
      "metadata": {
        "id": "RcBIOU5fIUoi"
      },
      "outputs": [],
      "source": [
        "df.fillna(method='bfill', inplace=True)\n",
        "df['popularity'].fillna(df['popularity'].mean(), inplace=True)\n",
        "df['budget'].fillna(df['budget'].median(), inplace=True)\n",
        "df['revenue'].fillna(df['revenue'].median(), inplace=True)\n",
        "df['release_date'].fillna(method='ffill', inplace=True)\n",
        "df['vote_count'].fillna(df['vote_count'].mean(), inplace=True)\n",
        "df['vote_average'].fillna(df['vote_average'].mean(), inplace=True)\n",
        "df['release_year'].fillna(df['release_year'].median(), inplace=True)\n",
        "df['budget_adj'].fillna(df['budget_adj'].median(), inplace=True)\n",
        "df['revenue_adj'].fillna(df['revenue_adj'].median(), inplace=True)\n",
        "df['homepage'].fillna(method='ffill', inplace=True)\n",
        "df['production_companies'].fillna(method='ffill', inplace=True)\n",
        "df['runtime'].interpolate(method='linear', inplace=True)"
      ]
    },
    {
      "cell_type": "markdown",
      "metadata": {
        "id": "shtL2QyKIgFe"
      },
      "source": [
        "###### Test"
      ]
    },
    {
      "cell_type": "code",
      "execution_count": 27,
      "metadata": {
        "colab": {
          "base_uri": "https://localhost:8080/"
        },
        "id": "NQ2qQKCuIiS6",
        "outputId": "cafc356c-456d-4ac3-e05c-31c0208444c9"
      },
      "outputs": [
        {
          "output_type": "stream",
          "name": "stdout",
          "text": [
            "<class 'pandas.core.frame.DataFrame'>\n",
            "RangeIndex: 10872 entries, 0 to 10871\n",
            "Data columns (total 21 columns):\n",
            " #   Column                Non-Null Count  Dtype         \n",
            "---  ------                --------------  -----         \n",
            " 0   id                    10872 non-null  object        \n",
            " 1   imdb_id               10860 non-null  object        \n",
            " 2   popularity            10872 non-null  float64       \n",
            " 3   budget                10872 non-null  float64       \n",
            " 4   revenue               10872 non-null  float64       \n",
            " 5   original_title        10860 non-null  object        \n",
            " 6   cast                  10860 non-null  object        \n",
            " 7   homepage              10872 non-null  object        \n",
            " 8   director              10860 non-null  object        \n",
            " 9   tagline               10860 non-null  object        \n",
            " 10  keywords              10860 non-null  object        \n",
            " 11  overview              10860 non-null  object        \n",
            " 12  runtime               10872 non-null  float64       \n",
            " 13  genres                10860 non-null  object        \n",
            " 14  production_companies  10872 non-null  object        \n",
            " 15  release_date          10872 non-null  datetime64[ns]\n",
            " 16  vote_count            10872 non-null  float64       \n",
            " 17  vote_average          10872 non-null  float64       \n",
            " 18  release_year          10872 non-null  float64       \n",
            " 19  budget_adj            10872 non-null  float64       \n",
            " 20  revenue_adj           10872 non-null  float64       \n",
            "dtypes: datetime64[ns](1), float64(9), object(11)\n",
            "memory usage: 1.7+ MB\n"
          ]
        }
      ],
      "source": [
        "df.info()"
      ]
    },
    {
      "cell_type": "markdown",
      "metadata": {
        "id": "Iyu-3KkaImDu"
      },
      "source": [
        "#### **Problem 4**\n",
        "Remove all duplicates"
      ]
    },
    {
      "cell_type": "markdown",
      "metadata": {
        "id": "GjTJIZ3XItQj"
      },
      "source": [
        "###### Code"
      ]
    },
    {
      "cell_type": "code",
      "execution_count": 28,
      "metadata": {
        "id": "_QtmNCOdIsx1"
      },
      "outputs": [],
      "source": [
        "df.drop_duplicates(subset='imdb_id', keep='first', inplace=True)"
      ]
    },
    {
      "cell_type": "markdown",
      "metadata": {
        "id": "RH8TudANIyJo"
      },
      "source": [
        "###### Test"
      ]
    },
    {
      "cell_type": "code",
      "execution_count": 29,
      "metadata": {
        "colab": {
          "base_uri": "https://localhost:8080/"
        },
        "id": "vPByQmjEJKPD",
        "outputId": "01039821-d156-4fd0-fb77-46bc204bb796"
      },
      "outputs": [
        {
          "output_type": "stream",
          "name": "stdout",
          "text": [
            "<class 'pandas.core.frame.DataFrame'>\n",
            "Int64Index: 1896 entries, 0 to 10860\n",
            "Data columns (total 21 columns):\n",
            " #   Column                Non-Null Count  Dtype         \n",
            "---  ------                --------------  -----         \n",
            " 0   id                    1896 non-null   object        \n",
            " 1   imdb_id               1895 non-null   object        \n",
            " 2   popularity            1896 non-null   float64       \n",
            " 3   budget                1896 non-null   float64       \n",
            " 4   revenue               1896 non-null   float64       \n",
            " 5   original_title        1895 non-null   object        \n",
            " 6   cast                  1895 non-null   object        \n",
            " 7   homepage              1896 non-null   object        \n",
            " 8   director              1895 non-null   object        \n",
            " 9   tagline               1895 non-null   object        \n",
            " 10  keywords              1895 non-null   object        \n",
            " 11  overview              1895 non-null   object        \n",
            " 12  runtime               1896 non-null   float64       \n",
            " 13  genres                1895 non-null   object        \n",
            " 14  production_companies  1896 non-null   object        \n",
            " 15  release_date          1896 non-null   datetime64[ns]\n",
            " 16  vote_count            1896 non-null   float64       \n",
            " 17  vote_average          1896 non-null   float64       \n",
            " 18  release_year          1896 non-null   float64       \n",
            " 19  budget_adj            1896 non-null   float64       \n",
            " 20  revenue_adj           1896 non-null   float64       \n",
            "dtypes: datetime64[ns](1), float64(9), object(11)\n",
            "memory usage: 325.9+ KB\n"
          ]
        }
      ],
      "source": [
        "df.info()"
      ]
    },
    {
      "cell_type": "markdown",
      "metadata": {
        "id": "UrFRzZ6PMIey"
      },
      "source": [
        "<a id='eda'></a>\n",
        "## **Exploratory Data Analysis**"
      ]
    },
    {
      "cell_type": "markdown",
      "metadata": {
        "id": "x17OerkBMca6"
      },
      "source": [
        "#### Question 1\n",
        "What are the least 10 popular movies in the dataset?"
      ]
    },
    {
      "cell_type": "code",
      "execution_count": 30,
      "metadata": {
        "colab": {
          "base_uri": "https://localhost:8080/"
        },
        "id": "-jyTZnrmMmkO",
        "outputId": "25f0a726-5f21-4791-ef6c-5836e496ce5a"
      },
      "outputs": [
        {
          "output_type": "stream",
          "name": "stdout",
          "text": [
            "                             original_title  popularity\n",
            "6549             Mon petit doigt m'a dit...    0.000973\n",
            "4919   Freddie Mercury: The Great Pretender    0.001635\n",
            "1386       Emmet Otter's Jug-Band Christmas    0.002457\n",
            "3364  Foo Fighters: Live at Wembley Stadium    0.002475\n",
            "3366                              How to Be    0.002514\n",
            "6046                          Zero Charisma    0.003066\n",
            "7266               In questo mondo di ladri    0.003456\n",
            "1323              Humpty Sharma Ki Dulhania    0.004282\n",
            "4940                          Sonet Film AB    0.004887\n",
            "4941                                Heroine    0.004887\n"
          ]
        }
      ],
      "source": [
        "least_10_popular_movies = df.sort_values(by='popularity', ascending=True).head(10)\n",
        "print(least_10_popular_movies[['original_title', 'popularity']])"
      ]
    },
    {
      "cell_type": "code",
      "source": [
        "least_10_popular_movies = df.sort_values(by='popularity', ascending=True).head(10)\n",
        "\n",
        "plt.figure(figsize=(10, 6))\n",
        "plt.plot(least_10_popular_movies['original_title'], least_10_popular_movies['popularity'], marker='o', linestyle='-')\n",
        "plt.title('Popularity of 10 Least Popular Movies')\n",
        "plt.xlabel('Movie Title')\n",
        "plt.ylabel('Popularity')\n",
        "plt.xticks(rotation=45, ha='right')\n",
        "plt.grid(True)\n",
        "plt.tight_layout()\n",
        "plt.show()"
      ],
      "metadata": {
        "colab": {
          "base_uri": "https://localhost:8080/",
          "height": 607
        },
        "id": "Sh1q94cVjA8R",
        "outputId": "11bff864-c59d-4c13-f270-30522577904a"
      },
      "execution_count": 42,
      "outputs": [
        {
          "output_type": "display_data",
          "data": {
            "text/plain": [
              "<Figure size 1000x600 with 1 Axes>"
            ],
            "image/png": "[encoded data removed]"
          },
          "metadata": {}
        }
      ]
    },
    {
      "cell_type": "markdown",
      "metadata": {
        "id": "lcBAl0AHM10C"
      },
      "source": [
        "They are :-\n",
        "1.  Mon petit doigt m'a dit...    \n",
        "2.   Freddie Mercury: The Great Pretender    \n",
        "3.   Emmet Otter's Jug-Band Christmas    \n",
        "4.   Foo Fighters: Live at Wembley Stadium    \n",
        "5.   How to Be    \n",
        "6.   Zero Charisma    \n",
        "7.   In questo mondo di ladri    \n",
        "8.   Humpty Sharma Ki Dulhania    \n",
        "9.   Heroine    \n",
        "10.  Sonet Film AB"
      ]
    },
    {
      "cell_type": "markdown",
      "metadata": {
        "id": "g8jkqhTJMuG2"
      },
      "source": [
        "#### Question 2\n",
        "Which movie has the highest budget and what is its title?"
      ]
    },
    {
      "cell_type": "code",
      "execution_count": 31,
      "metadata": {
        "colab": {
          "base_uri": "https://localhost:8080/"
        },
        "id": "J1jOt43cNYZ0",
        "outputId": "2563cae0-dd76-4f7c-b279-ee2e49b3c2ad"
      },
      "outputs": [
        {
          "output_type": "stream",
          "name": "stdout",
          "text": [
            "     original_title       budget\n",
            "3386         Cars 2  200000000.0\n"
          ]
        }
      ],
      "source": [
        "highest_movie_budget = df.sort_values(by='budget', ascending=False).head(1)\n",
        "print(highest_movie_budget[['original_title', 'budget']])"
      ]
    },
    {
      "cell_type": "markdown",
      "metadata": {
        "id": "ELXcE6eqNhzY"
      },
      "source": [
        "The movie is Cars 2 by budget 20 Million dollars"
      ]
    },
    {
      "cell_type": "markdown",
      "metadata": {
        "id": "3kLnvGZf7Uia"
      },
      "source": [
        "#### Question 3\n",
        "What is the average runtime of all the movies in the dataset?"
      ]
    },
    {
      "cell_type": "code",
      "execution_count": 32,
      "metadata": {
        "colab": {
          "base_uri": "https://localhost:8080/"
        },
        "id": "PFZ2zv3h78OQ",
        "outputId": "58da37e1-3251-41c8-cec5-f730571586a8"
      },
      "outputs": [
        {
          "output_type": "stream",
          "name": "stdout",
          "text": [
            "300002.7199076999\n"
          ]
        }
      ],
      "source": [
        "avg_runtime = df['runtime'].mean()\n",
        "print(avg_runtime)"
      ]
    },
    {
      "cell_type": "markdown",
      "metadata": {
        "id": "jYNRrF_vCvbF"
      },
      "source": [
        "The average runtime is about 300002.72 minutes"
      ]
    },
    {
      "cell_type": "markdown",
      "metadata": {
        "id": "fq-PO0KQDIwX"
      },
      "source": [
        "#### Question 4\n",
        "What is the average number of movies were released each year?"
      ]
    },
    {
      "cell_type": "code",
      "execution_count": 33,
      "metadata": {
        "colab": {
          "base_uri": "https://localhost:8080/"
        },
        "id": "7w2e_T7HEYRV",
        "outputId": "fdd65d8e-e926-4c5b-dbd0-bf39bff45bfc"
      },
      "outputs": [
        {
          "output_type": "stream",
          "name": "stdout",
          "text": [
            "Average number of movies released per year: 33\n"
          ]
        }
      ],
      "source": [
        "movies_per_year = df.groupby('release_year').size()\n",
        "average_movies_per_year = round(movies_per_year.mean())\n",
        "print(\"Average number of movies released per year:\", average_movies_per_year)"
      ]
    },
    {
      "cell_type": "markdown",
      "metadata": {
        "id": "YjqfdAzsFAqB"
      },
      "source": [
        "As you can see the average number of movies released per year is about 33 movies"
      ]
    },
    {
      "cell_type": "markdown",
      "metadata": {
        "id": "c-LwrsdMFZuI"
      },
      "source": [
        "#### Question 5\n",
        "Which movie has the highest average rating?"
      ]
    },
    {
      "cell_type": "code",
      "execution_count": 34,
      "metadata": {
        "colab": {
          "base_uri": "https://localhost:8080/"
        },
        "id": "bZ1yDdS_Fnwb",
        "outputId": "52d15ad6-1f44-4ece-dd9a-ccb7d305aba3"
      },
      "outputs": [
        {
          "output_type": "stream",
          "name": "stdout",
          "text": [
            "              original_title  vote_average\n",
            "4299   forgotten and furious        1994.0\n"
          ]
        }
      ],
      "source": [
        "highest_avg_rating = df.sort_values(by='vote_average', ascending=False).head(1)\n",
        "print(highest_avg_rating[['original_title', 'vote_average']])"
      ]
    },
    {
      "cell_type": "markdown",
      "metadata": {
        "id": "0xSgwV4-FpBt"
      },
      "source": [
        "The higest rated movie is forgotten and furious by rating 1994"
      ]
    },
    {
      "cell_type": "markdown",
      "metadata": {
        "id": "7bI-zsZFF_-m"
      },
      "source": [
        "#### Question 6\n",
        "What is the most popular genre?"
      ]
    },
    {
      "cell_type": "code",
      "execution_count": 35,
      "metadata": {
        "colab": {
          "base_uri": "https://localhost:8080/",
          "height": 206
        },
        "id": "CMaAjY1hGeju",
        "outputId": "95cb3721-a2d1-46b1-d8f9-1d828d860d04"
      },
      "outputs": [
        {
          "output_type": "execute_result",
          "data": {
            "text/plain": [
              "      index  count\n",
              "0     Drama    843\n",
              "1    Comedy    594\n",
              "2  Thriller    553\n",
              "3    Action    336\n",
              "4    Horror    297"
            ],
            "text/html": [
              "\n",
              "  <div id=\"df-79fc8daf-2b49-4263-8988-63cdf116b6b1\" class=\"colab-df-container\">\n",
              "    <div>\n",
              "<style scoped>\n",
              "    .dataframe tbody tr th:only-of-type {\n",
              "        vertical-align: middle;\n",
              "    }\n",
              "\n",
              "    .dataframe tbody tr th {\n",
              "        vertical-align: top;\n",
              "    }\n",
              "\n",
              "    .dataframe thead th {\n",
              "        text-align: right;\n",
              "    }\n",
              "</style>\n",
              "<table border=\"1\" class=\"dataframe\">\n",
              "  <thead>\n",
              "    <tr style=\"text-align: right;\">\n",
              "      <th></th>\n",
              "      <th>index</th>\n",
              "      <th>count</th>\n",
              "    </tr>\n",
              "  </thead>\n",
              "  <tbody>\n",
              "    <tr>\n",
              "      <th>0</th>\n",
              "      <td>Drama</td>\n",
              "      <td>843</td>\n",
              "    </tr>\n",
              "    <tr>\n",
              "      <th>1</th>\n",
              "      <td>Comedy</td>\n",
              "      <td>594</td>\n",
              "    </tr>\n",
              "    <tr>\n",
              "      <th>2</th>\n",
              "      <td>Thriller</td>\n",
              "      <td>553</td>\n",
              "    </tr>\n",
              "    <tr>\n",
              "      <th>3</th>\n",
              "      <td>Action</td>\n",
              "      <td>336</td>\n",
              "    </tr>\n",
              "    <tr>\n",
              "      <th>4</th>\n",
              "      <td>Horror</td>\n",
              "      <td>297</td>\n",
              "    </tr>\n",
              "  </tbody>\n",
              "</table>\n",
              "</div>\n",
              "    <div class=\"colab-df-buttons\">\n",
              "\n",
              "  <div class=\"colab-df-container\">\n",
              "    <button class=\"colab-df-convert\" onclick=\"convertToInteractive('df-79fc8daf-2b49-4263-8988-63cdf116b6b1')\"\n",
              "            title=\"Convert this dataframe to an interactive table.\"\n",
              "            style=\"display:none;\">\n",
              "\n",
              "  <svg xmlns=\"http://www.w3.org/2000/svg\" height=\"24px\" viewBox=\"0 -960 960 960\">\n",
              "    <path d=\"M120-120v-720h720v720H120Zm60-500h600v-160H180v160Zm220 220h160v-160H400v160Zm0 220h160v-160H400v160ZM180-400h160v-160H180v160Zm440 0h160v-160H620v160ZM180-180h160v-160H180v160Zm440 0h160v-160H620v160Z\"/>\n",
              "  </svg>\n",
              "    </button>\n",
              "\n",
              "  <style>\n",
              "    .colab-df-container {\n",
              "      display:flex;\n",
              "      gap: 12px;\n",
              "    }\n",
              "\n",
              "    .colab-df-convert {\n",
              "      background-color: #E8F0FE;\n",
              "      border: none;\n",
              "      border-radius: 50%;\n",
              "      cursor: pointer;\n",
              "      display: none;\n",
              "      fill: #1967D2;\n",
              "      height: 32px;\n",
              "      padding: 0 0 0 0;\n",
              "      width: 32px;\n",
              "    }\n",
              "\n",
              "    .colab-df-convert:hover {\n",
              "      background-color: #E2EBFA;\n",
              "      box-shadow: 0px 1px 2px rgba(60, 64, 67, 0.3), 0px 1px 3px 1px rgba(60, 64, 67, 0.15);\n",
              "      fill: #174EA6;\n",
              "    }\n",
              "\n",
              "    .colab-df-buttons div {\n",
              "      margin-bottom: 4px;\n",
              "    }\n",
              "\n",
              "    [theme=dark] .colab-df-convert {\n",
              "      background-color: #3B4455;\n",
              "      fill: #D2E3FC;\n",
              "    }\n",
              "\n",
              "    [theme=dark] .colab-df-convert:hover {\n",
              "      background-color: #434B5C;\n",
              "      box-shadow: 0px 1px 3px 1px rgba(0, 0, 0, 0.15);\n",
              "      filter: drop-shadow(0px 1px 2px rgba(0, 0, 0, 0.3));\n",
              "      fill: #FFFFFF;\n",
              "    }\n",
              "  </style>\n",
              "\n",
              "    <script>\n",
              "      const buttonEl =\n",
              "        document.querySelector('#df-79fc8daf-2b49-4263-8988-63cdf116b6b1 button.colab-df-convert');\n",
              "      buttonEl.style.display =\n",
              "        google.colab.kernel.accessAllowed ? 'block' : 'none';\n",
              "\n",
              "      async function convertToInteractive(key) {\n",
              "        const element = document.querySelector('#df-79fc8daf-2b49-4263-8988-63cdf116b6b1');\n",
              "        const dataTable =\n",
              "          await google.colab.kernel.invokeFunction('convertToInteractive',\n",
              "                                                    [key], {});\n",
              "        if (!dataTable) return;\n",
              "\n",
              "        const docLinkHtml = 'Like what you see? Visit the ' +\n",
              "          '<a target=\"_blank\" href=https://colab.research.google.com/notebooks/data_table.ipynb>data table notebook</a>'\n",
              "          + ' to learn more about interactive tables.';\n",
              "        element.innerHTML = '';\n",
              "        dataTable['output_type'] = 'display_data';\n",
              "        await google.colab.output.renderOutput(dataTable, element);\n",
              "        const docLink = document.createElement('div');\n",
              "        docLink.innerHTML = docLinkHtml;\n",
              "        element.appendChild(docLink);\n",
              "      }\n",
              "    </script>\n",
              "  </div>\n",
              "\n",
              "\n",
              "<div id=\"df-42ad99eb-4e32-43a7-a399-3c833d6673f1\">\n",
              "  <button class=\"colab-df-quickchart\" onclick=\"quickchart('df-42ad99eb-4e32-43a7-a399-3c833d6673f1')\"\n",
              "            title=\"Suggest charts\"\n",
              "            style=\"display:none;\">\n",
              "\n",
              "<svg xmlns=\"http://www.w3.org/2000/svg\" height=\"24px\"viewBox=\"0 0 24 24\"\n",
              "     width=\"24px\">\n",
              "    <g>\n",
              "        <path d=\"M19 3H5c-1.1 0-2 .9-2 2v14c0 1.1.9 2 2 2h14c1.1 0 2-.9 2-2V5c0-1.1-.9-2-2-2zM9 17H7v-7h2v7zm4 0h-2V7h2v10zm4 0h-2v-4h2v4z\"/>\n",
              "    </g>\n",
              "</svg>\n",
              "  </button>\n",
              "\n",
              "<style>\n",
              "  .colab-df-quickchart {\n",
              "      --bg-color: #E8F0FE;\n",
              "      --fill-color: #1967D2;\n",
              "      --hover-bg-color: #E2EBFA;\n",
              "      --hover-fill-color: #174EA6;\n",
              "      --disabled-fill-color: #AAA;\n",
              "      --disabled-bg-color: #DDD;\n",
              "  }\n",
              "\n",
              "  [theme=dark] .colab-df-quickchart {\n",
              "      --bg-color: #3B4455;\n",
              "      --fill-color: #D2E3FC;\n",
              "      --hover-bg-color: #434B5C;\n",
              "      --hover-fill-color: #FFFFFF;\n",
              "      --disabled-bg-color: #3B4455;\n",
              "      --disabled-fill-color: #666;\n",
              "  }\n",
              "\n",
              "  .colab-df-quickchart {\n",
              "    background-color: var(--bg-color);\n",
              "    border: none;\n",
              "    border-radius: 50%;\n",
              "    cursor: pointer;\n",
              "    display: none;\n",
              "    fill: var(--fill-color);\n",
              "    height: 32px;\n",
              "    padding: 0;\n",
              "    width: 32px;\n",
              "  }\n",
              "\n",
              "  .colab-df-quickchart:hover {\n",
              "    background-color: var(--hover-bg-color);\n",
              "    box-shadow: 0 1px 2px rgba(60, 64, 67, 0.3), 0 1px 3px 1px rgba(60, 64, 67, 0.15);\n",
              "    fill: var(--button-hover-fill-color);\n",
              "  }\n",
              "\n",
              "  .colab-df-quickchart-complete:disabled,\n",
              "  .colab-df-quickchart-complete:disabled:hover {\n",
              "    background-color: var(--disabled-bg-color);\n",
              "    fill: var(--disabled-fill-color);\n",
              "    box-shadow: none;\n",
              "  }\n",
              "\n",
              "  .colab-df-spinner {\n",
              "    border: 2px solid var(--fill-color);\n",
              "    border-color: transparent;\n",
              "    border-bottom-color: var(--fill-color);\n",
              "    animation:\n",
              "      spin 1s steps(1) infinite;\n",
              "  }\n",
              "\n",
              "  @keyframes spin {\n",
              "    0% {\n",
              "      border-color: transparent;\n",
              "      border-bottom-color: var(--fill-color);\n",
              "      border-left-color: var(--fill-color);\n",
              "    }\n",
              "    20% {\n",
              "      border-color: transparent;\n",
              "      border-left-color: var(--fill-color);\n",
              "      border-top-color: var(--fill-color);\n",
              "    }\n",
              "    30% {\n",
              "      border-color: transparent;\n",
              "      border-left-color: var(--fill-color);\n",
              "      border-top-color: var(--fill-color);\n",
              "      border-right-color: var(--fill-color);\n",
              "    }\n",
              "    40% {\n",
              "      border-color: transparent;\n",
              "      border-right-color: var(--fill-color);\n",
              "      border-top-color: var(--fill-color);\n",
              "    }\n",
              "    60% {\n",
              "      border-color: transparent;\n",
              "      border-right-color: var(--fill-color);\n",
              "    }\n",
              "    80% {\n",
              "      border-color: transparent;\n",
              "      border-right-color: var(--fill-color);\n",
              "      border-bottom-color: var(--fill-color);\n",
              "    }\n",
              "    90% {\n",
              "      border-color: transparent;\n",
              "      border-bottom-color: var(--fill-color);\n",
              "    }\n",
              "  }\n",
              "</style>\n",
              "\n",
              "  <script>\n",
              "    async function quickchart(key) {\n",
              "      const quickchartButtonEl =\n",
              "        document.querySelector('#' + key + ' button');\n",
              "      quickchartButtonEl.disabled = true;  // To prevent multiple clicks.\n",
              "      quickchartButtonEl.classList.add('colab-df-spinner');\n",
              "      try {\n",
              "        const charts = await google.colab.kernel.invokeFunction(\n",
              "            'suggestCharts', [key], {});\n",
              "      } catch (error) {\n",
              "        console.error('Error during call to suggestCharts:', error);\n",
              "      }\n",
              "      quickchartButtonEl.classList.remove('colab-df-spinner');\n",
              "      quickchartButtonEl.classList.add('colab-df-quickchart-complete');\n",
              "    }\n",
              "    (() => {\n",
              "      let quickchartButtonEl =\n",
              "        document.querySelector('#df-42ad99eb-4e32-43a7-a399-3c833d6673f1 button');\n",
              "      quickchartButtonEl.style.display =\n",
              "        google.colab.kernel.accessAllowed ? 'block' : 'none';\n",
              "    })();\n",
              "  </script>\n",
              "</div>\n",
              "    </div>\n",
              "  </div>\n"
            ],
            "application/vnd.google.colaboratory.intrinsic+json": {
              "type": "dataframe",
              "variable_name": "conut_genres",
              "summary": "{\n  \"name\": \"conut_genres\",\n  \"rows\": 70,\n  \"fields\": [\n    {\n      \"column\": \"index\",\n      \"properties\": {\n        \"dtype\": \"string\",\n        \"num_unique_values\": 70,\n        \"samples\": [\n          \"0\\\";;;;;;;;\",\n          \"Drama\",\n          \"2015\"\n        ],\n        \"semantic_type\": \"\",\n        \"description\": \"\"\n      }\n    },\n    {\n      \"column\": \"count\",\n      \"properties\": {\n        \"dtype\": \"number\",\n        \"std\": 151,\n        \"min\": 1,\n        \"max\": 843,\n        \"num_unique_values\": 26,\n        \"samples\": [\n          170,\n          40,\n          843\n        ],\n        \"semantic_type\": \"\",\n        \"description\": \"\"\n      }\n    }\n  ]\n}"
            }
          },
          "metadata": {},
          "execution_count": 35
        }
      ],
      "source": [
        "# First we have to seperate each genre\n",
        "genre_dummies = df['genres'].str.get_dummies('|')\n",
        "conut_genres = genre_dummies.sum().sort_values(ascending=False).reset_index().rename(columns={0:\"count\"})\n",
        "conut_genres.head()"
      ]
    },
    {
      "cell_type": "code",
      "execution_count": 36,
      "metadata": {
        "colab": {
          "base_uri": "https://localhost:8080/",
          "height": 607
        },
        "id": "OjvwOCtGJlHD",
        "outputId": "af698ce9-aa0b-4fa1-a148-cc97abc326e9"
      },
      "outputs": [
        {
          "output_type": "display_data",
          "data": {
            "text/plain": [
              "<Figure size 1000x600 with 1 Axes>"
            ],
            "image/png": "[encoded data removed]"
          },
          "metadata": {}
        }
      ],
      "source": [
        "categories = ['Drama', 'Comedy', 'Thriller', 'Action', 'Horror']\n",
        "counts = [843, 594, 553, 336, 297]\n",
        "\n",
        "# Create bar plot\n",
        "plt.figure(figsize=(10, 6))\n",
        "plt.bar(categories, counts, color='skyblue')\n",
        "plt.title('Number of Movies by Genre')\n",
        "plt.xlabel('Genre')\n",
        "plt.ylabel('Number of Movies')\n",
        "plt.xticks(rotation=45, ha='right')\n",
        "plt.tight_layout()\n",
        "plt.show()"
      ]
    },
    {
      "cell_type": "markdown",
      "metadata": {
        "id": "hHK5XN9UHsdJ"
      },
      "source": [
        "The most popular genre is Drame by about 843 movies"
      ]
    },
    {
      "cell_type": "markdown",
      "metadata": {
        "id": "JcPwjhbgH4Ug"
      },
      "source": [
        "#### Question 7\n",
        "Which production company has produced the most movies?"
      ]
    },
    {
      "cell_type": "code",
      "execution_count": 37,
      "metadata": {
        "colab": {
          "base_uri": "https://localhost:8080/"
        },
        "id": "VRskEqdBIEAy",
        "outputId": "02501b4f-546c-487b-c68c-66f9ff55d468"
      },
      "outputs": [
        {
          "output_type": "stream",
          "name": "stdout",
          "text": [
            "The production company that has produced the most movies is: Paramount Pictures\n",
            "Number of movies produced: 40\n"
          ]
        }
      ],
      "source": [
        "def find_most_common_production_company(df):\n",
        "    production_company_counts = df['production_companies'].value_counts()\n",
        "    most_common_production_company = production_company_counts.idxmax()\n",
        "    max_movies_produced = production_company_counts.max()\n",
        "\n",
        "    print(f\"The production company that has produced the most movies is: {most_common_production_company}\")\n",
        "    print(f\"Number of movies produced: {max_movies_produced}\")\n",
        "\n",
        "find_most_common_production_company(df)"
      ]
    },
    {
      "cell_type": "markdown",
      "metadata": {
        "id": "FnaAqBcpIR_1"
      },
      "source": [
        "The production company that has produced the most movies is Paramount Pictures wich produced 40 movies"
      ]
    },
    {
      "cell_type": "markdown",
      "metadata": {
        "id": "qxOWPKOJIsSQ"
      },
      "source": [
        "#### Question 8\n",
        "Are there any trends in movie releases over the years?"
      ]
    },
    {
      "cell_type": "code",
      "execution_count": 44,
      "metadata": {
        "id": "ht1CwYezKOaa",
        "colab": {
          "base_uri": "https://localhost:8080/",
          "height": 607
        },
        "outputId": "98db3d8f-d9bf-43af-b380-274bc741d17d"
      },
      "outputs": [
        {
          "output_type": "display_data",
          "data": {
            "text/plain": [
              "<Figure size 1000x600 with 1 Axes>"
            ],
            "image/png": "[encoded data removed]"
          },
          "metadata": {}
        }
      ],
      "source": [
        "df_filtered = df[df['release_year'] != 588444.624639265]  # Excluding non-year values\n",
        "movie_counts_by_year = df_filtered.groupby('release_year').size()\n",
        "\n",
        "plt.figure(figsize=(10, 6))\n",
        "plt.bar(movie_counts_by_year.index, movie_counts_by_year.values, color='green', alpha=0.7)\n",
        "plt.title('Number of Movie Releases Over the Years')\n",
        "plt.xlabel('Year')\n",
        "plt.ylabel('Number of Movie Releases')\n",
        "plt.grid(axis='y', linestyle='--', alpha=0.7)\n",
        "plt.xticks(range(int(min(movie_counts_by_year.index)), int(max(movie_counts_by_year.index))+1, 5))\n",
        "plt.tight_layout()\n",
        "plt.show()"
      ]
    },
    {
      "cell_type": "markdown",
      "metadata": {
        "id": "O4YuJBTCMoGP"
      },
      "source": [
        "The higest year that have movies released is 2013"
      ]
    },
    {
      "cell_type": "markdown",
      "metadata": {
        "id": "LdCmWBkqNoEE"
      },
      "source": [
        "<a id='conclusions'></a>\n",
        "## **Conclusions**"
      ]
    },
    {
      "cell_type": "markdown",
      "metadata": {
        "id": "6rTXk98ON_C9"
      },
      "source": [
        "> **First**: During the data exploration process, I cleaned and prepared the dataset by handling missing values and converting data types. i explored trends in movie releases over the years, identifying fluctuations and patterns in the number of releases.\n",
        "\n",
        "> **Second**: In relation to the questions provided at the beginning of the analysis, my findings suggest that there is a general upward trend in the number of movie releases over the years, with occasional fluctuations observed. However, further analysis is needed to understand the underlying factors driving these trends.\n",
        "\n",
        "> **Third**: While my analysis provides valuable insights into movie release trends, there are areas where additional research could enhance my understanding. For example, investigating the impact of external factors such as economic conditions or technological advancements on movie release patterns could provide valuable context.\n",
        "\n",
        "> **Fourth**: It's important to note that correlation does not imply causation. While I observed correlations between certain variables, such as release year and the number of movie releases, further research is needed to establish causal relationships.\n",
        "\n"
      ]
    },
    {
      "cell_type": "markdown",
      "metadata": {
        "id": "4M4xWSInPSqy"
      },
      "source": [
        "## **Limitations**"
      ]
    },
    {
      "cell_type": "markdown",
      "metadata": {
        "id": "1spjG0-lPfH4"
      },
      "source": [
        "One limitation of my analysis is the absence of consideration for seasonal variations in movie releases. Seasonal trends, such as the holiday season or summer blockbusters, may influence the number of movie releases in specific months or quarters. Ignoring these variations may lead to an incomplete understanding of the factors driving movie release patterns.\n",
        "\n",
        "Additionally, while my analysis identifies correlations between variables such as release year and the number of movie releases, it's essential to recognize that correlation does not imply causation. Further research is necessary to investigate causal relationships and determine the underlying factors influencing movie release trends over time.\n",
        "\n",
        "Furthermore, my analysis is based solely on the provided dataset, which may have limitations or biases inherent in its collection process. External factors not accounted for in the dataset, such as changes in consumer behavior or regulatory changes in the film industry, could also impact movie release trends.\n",
        "\n",
        "Overall, while my analysis offers valuable insights, it's important to interpret the findings with caution and consider the limitations outlined above when drawing conclusions or making decisions based on the results."
      ]
    }
  ],
  "metadata": {
    "colab": {
      "provenance": [],
      "collapsed_sections": [
        "iLLfYi1SEYLw",
        "VHZz93V3ESL9",
        "Y2MgwgHoH9BR",
        "HH5hKJypICOX",
        "kElt6PIUITh5",
        "Iyu-3KkaImDu"
      ],
      "toc_visible": true
    },
    "kernelspec": {
      "display_name": "Python 3",
      "name": "python3"
    },
    "language_info": {
      "name": "python"
    }
  },
  "nbformat": 4,
  "nbformat_minor": 0
}